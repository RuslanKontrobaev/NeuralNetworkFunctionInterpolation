{
  "nbformat": 4,
  "nbformat_minor": 0,
  "metadata": {
    "colab": {
      "provenance": []
    },
    "kernelspec": {
      "name": "python3",
      "display_name": "Python 3"
    },
    "language_info": {
      "name": "python"
    },
    "gpuClass": "standard"
  },
  "cells": [
    {
      "cell_type": "markdown",
      "source": [
        "# Библиотеки"
      ],
      "metadata": {
        "id": "Vpx33SRBGi3u"
      }
    },
    {
      "cell_type": "code",
      "execution_count": 160,
      "metadata": {
        "id": "kTKCmgXaeeb5"
      },
      "outputs": [],
      "source": [
        "import numpy\n",
        "import random\n",
        "import scipy.special # библиотека scipy.special содержит сигмоиду expit()\n",
        "import pandas\n",
        "from sklearn import preprocessing\n",
        "from sklearn.metrics import mean_squared_error\n",
        "import matplotlib.pyplot as plt"
      ]
    },
    {
      "cell_type": "code",
      "source": [
        "from google.colab import drive\n",
        "drive.mount('/content/drive', force_remount=True)"
      ],
      "metadata": {
        "colab": {
          "base_uri": "https://localhost:8080/"
        },
        "id": "7gvw8JEblee9",
        "outputId": "1fc29013-7eed-4faa-fe66-3bc1af4207f7"
      },
      "execution_count": 161,
      "outputs": [
        {
          "output_type": "stream",
          "name": "stdout",
          "text": [
            "Mounted at /content/drive\n"
          ]
        }
      ]
    },
    {
      "cell_type": "markdown",
      "source": [
        "# Основной класс нейронной сети"
      ],
      "metadata": {
        "id": "i2aojNIzGoYJ"
      }
    },
    {
      "cell_type": "code",
      "source": [
        "class neuralNetwork:\n",
        "\n",
        "    def __init__(self, num_nodes_in_layers, learning_rate):\n",
        "        self.num_nodes_in_layers = num_nodes_in_layers\n",
        "        self.learning_rate = learning_rate\n",
        "        self.activation_function = lambda x: scipy.special.expit(x)\n",
        "\n",
        "        self.weights = []\n",
        "        for layer in range(len(self.num_nodes_in_layers) - 1):\n",
        "            cols = self.num_nodes_in_layers[layer + 1]\n",
        "            rows = self.num_nodes_in_layers[layer]\n",
        "            weight = numpy.random.rand(cols, rows) - 0.5\n",
        "            self.weights.append(weight)\n",
        "\n",
        "\n",
        "    def train(self, inputs, target):\n",
        "        inputs = numpy.array(inputs, ndmin=2).T\n",
        "        target = numpy.array(target, ndmin=2).T\n",
        "        \n",
        "        # ПРЯМОЕ РАСПРОСТРАНЕНИЕ\n",
        "        list_outputs = [] # Список всех выходных значений для обратного распространения\n",
        "        list_outputs.append(inputs)\n",
        "        output = inputs\n",
        "        for layer in range(1, len(self.num_nodes_in_layers)):\n",
        "            input = numpy.dot(self.weights[layer - 1], output)\n",
        "            output =  self.activation_function(input)\n",
        "            list_outputs.append(output)\n",
        "\n",
        "        output_error = target - output # ошибка выходного слоя = (целевое значение - фактическое значение)\n",
        "\n",
        "        # ОБРАТНОЕ РАСПРОСТРАНЕНИЕ\n",
        "        # Подсчитать ошибку для каждого слоя\n",
        "        layer_errors = [] # Список ошибок всех слоев\n",
        "        layer_errors.append(output_error)\n",
        "        cur_error = output_error\n",
        "        for layer in range(len(self.num_nodes_in_layers) - 2, 0, -1): # Перебор в обратном порядке с шагом: -1\n",
        "            next_error = numpy.dot(self.weights[layer].T, cur_error)\n",
        "            layer_errors.append(next_error)\n",
        "            cur_error = next_error\n",
        "        layer_errors.reverse()\n",
        "\n",
        "        # Обновить весовые коэффициенты\n",
        "        for layer in range(len(self.num_nodes_in_layers) - 2, -1, -1): # Перебор в обратном порядке с шагом: -1\n",
        "            self.weights[layer] += self.learning_rate * numpy.dot((layer_errors[layer] * list_outputs[layer + 1] * (1.0 - list_outputs[layer + 1])), numpy.transpose(list_outputs[layer]))\n",
        "\n",
        "        return mean_squared_error(target, output)\n",
        "\n",
        "\n",
        "    def query(self, inputs):\n",
        "        inputs = numpy.array(inputs, ndmin=2).T\n",
        "    \n",
        "        output = inputs\n",
        "        for layer in range(1, len(self.num_nodes_in_layers)):\n",
        "            input = numpy.dot(self.weights[layer - 1], output)\n",
        "            output =  self.activation_function(input)\n",
        "        \n",
        "        return output"
      ],
      "metadata": {
        "id": "3CuxKsXFpXUz"
      },
      "execution_count": 162,
      "outputs": []
    },
    {
      "cell_type": "markdown",
      "source": [
        "# Загрузка тренировочных данных"
      ],
      "metadata": {
        "id": "1yWKWTx1vP4S"
      }
    },
    {
      "cell_type": "code",
      "source": [
        "csv_file = pandas.read_csv(\"/content/drive/MyDrive/approx_func/train_data.csv\", header=None)\n",
        "# print(csv_file)\n",
        "\n",
        "scaler = preprocessing.MinMaxScaler(feature_range=(0, 1))\n",
        "data_list = scaler.fit_transform(csv_file)\n",
        "# print(data_list)\n",
        "\n",
        "scaler_targets = preprocessing.MinMaxScaler(feature_range=(0, 1))\n",
        "targets_data = scaler_targets.fit_transform(csv_file.iloc[:, [3]])\n",
        "# print(targets_data)"
      ],
      "metadata": {
        "id": "RfxyFJygvPUe"
      },
      "execution_count": 163,
      "outputs": []
    },
    {
      "cell_type": "markdown",
      "source": [
        "# Тренировка нейронной сети"
      ],
      "metadata": {
        "id": "E9FsF5PiwXsq"
      }
    },
    {
      "cell_type": "code",
      "source": [
        "NUM_NODES_IN_LAYERS = [3, 100, 100, 1]\n",
        "LEARNING_RATE = 0.1\n",
        "NUM_EPOCHS = 3000\n",
        "\n",
        "nn = neuralNetwork(NUM_NODES_IN_LAYERS, LEARNING_RATE)"
      ],
      "metadata": {
        "id": "0pKl0HnTd1CW"
      },
      "execution_count": 164,
      "outputs": []
    },
    {
      "cell_type": "code",
      "source": [
        "data_list.tolist()\n",
        "mse_list = []\n",
        "\n",
        "for epoch in range(NUM_EPOCHS):\n",
        "    mse = 0\n",
        "    numpy.random.shuffle(data_list)\n",
        "    for record in data_list:\n",
        "        inputs = numpy.array(record[:3])\n",
        "        target = record[3]\n",
        "        mse += nn.train(inputs, target)\n",
        "    mse_list.append(mse)\n",
        "# print(mse_list)"
      ],
      "metadata": {
        "id": "eeKVb3Xadfdx"
      },
      "execution_count": 165,
      "outputs": []
    },
    {
      "cell_type": "code",
      "source": [
        "plt.figure(figsize=(10, 10))\n",
        "plt.plot(range(NUM_EPOCHS), mse_list, color=\"Blue\")\n",
        "plt.plot(numpy.argmin(mse_list), min(mse_list), 'ro', label='Мин. СКО = {0}'.format(round(min(mse_list), 5)))\n",
        "# plt.suptitle('Зависимость СКО от количества эпох', fontsize = 15)\n",
        "plt.xlabel(\"Эпохи\", fontsize = 16)\n",
        "plt.ylabel(\"Среднеквадратическая ошибка\", fontsize = 16)\n",
        "plt.legend(fontsize = 12)\n",
        "plt.show()"
      ],
      "metadata": {
        "id": "OS5rNPmHzNh3",
        "colab": {
          "base_uri": "https://localhost:8080/",
          "height": 611
        },
        "outputId": "f88aeaf4-7eb3-4c64-fb37-9d08877a9bd9"
      },
      "execution_count": 166,
      "outputs": [
        {
          "output_type": "display_data",
          "data": {
            "text/plain": [
              "<Figure size 720x720 with 1 Axes>"
            ],
            "image/png": "[encoded data removed]"
          },
          "metadata": {
            "needs_background": "light"
          }
        }
      ]
    },
    {
      "cell_type": "markdown",
      "source": [
        "# Тестирование нейронной сети"
      ],
      "metadata": {
        "id": "T2X31keiprAb"
      }
    },
    {
      "cell_type": "code",
      "source": [
        "csv_file = pandas.read_csv(\"/content/drive/MyDrive/approx_func/test_data.csv\", header=None)\n",
        "# print(csv_file)\n",
        "\n",
        "scaler = preprocessing.MinMaxScaler(feature_range=(0, 1))\n",
        "data_list = scaler.fit_transform(csv_file)\n",
        "# print(data_list)"
      ],
      "metadata": {
        "id": "EZQlGOctpt0w"
      },
      "execution_count": 167,
      "outputs": []
    },
    {
      "cell_type": "code",
      "source": [
        "output_list = []\n",
        "for input in data_list:\n",
        "    output = nn.query(input[:3])\n",
        "    output = scaler_targets.inverse_transform(output)\n",
        "    output_list.append(round(output.item()))\n",
        "print(output_list)"
      ],
      "metadata": {
        "id": "evNUtUoQwgQd",
        "colab": {
          "base_uri": "https://localhost:8080/"
        },
        "outputId": "1895a5c3-3d80-475e-de65-11f7e6d5c8c4"
      },
      "execution_count": 168,
      "outputs": [
        {
          "output_type": "stream",
          "name": "stdout",
          "text": [
            "[3842, 5871, 4254, -1289, 275, 12, -438, -288, 3409, 776, -523, 74, 12, -825, 4885, -1302, 6972, 583, -201, 342, 45, 739, 926, -1255, 18, 6963, -162, -591, 1290, 416, 666, 3823, -65, -560, 7259, 3978, -1212, 1474, 2455, 6243]\n"
          ]
        }
      ]
    }
  ]
}